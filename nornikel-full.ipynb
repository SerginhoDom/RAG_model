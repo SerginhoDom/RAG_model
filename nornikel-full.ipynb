{
 "cells": [
  {
   "attachments": {
    "0ce0b656-b4e4-413b-b1a4-e40c7a9a818b.png": {
     "image/png": "[encoded data removed]"
    }
   },
   "cell_type": "markdown",
   "metadata": {},
   "source": [
    "![image.png](attachment:0ce0b656-b4e4-413b-b1a4-e40c7a9a818b.png)"
   ]
  },
  {
   "cell_type": "markdown",
   "metadata": {},
   "source": [
    "# Мультимодальные RAG модели 🔍️📊"
   ]
  },
  {
   "cell_type": "markdown",
   "metadata": {},
   "source": [
    "## Контекст проекта\n",
    "\n",
    "* **Организация:** ПАО \"Норильский никель\" 🏢\n",
    "* **Направление:** Искусственный интеллект и анализ данных 💻📊\n",
    "* **Формат:** Хакатон по разработке инновационных решений 🏆\n",
    "\n",
    "## Проблематика 🤔\n",
    "В современных производственных компаниях, особенно в металлургической и горнодобывающей отраслях, существует острая необходимость в эффективной обработке больших объемов разнородной информации, быстром извлечении релевантных знаний из документов, мультимодальном анализе данных (текст, изображения, графики) и поддержке принятия решений на основе глубокого понимания контекста. Традиционные методы работы с документами часто оказываются неэффективными.\n",
    "\n",
    "## Цель проекта 🎯\n",
    "Основная цель проекта - разработка мультимодальной системы интеллектуального поиска и анализа информации, использующей современные методы машинного обучения и обработки естественного языка."
   ]
  },
  {
   "cell_type": "markdown",
   "metadata": {},
   "source": [
    "# 1. Установка и импорт нужных инструментов"
   ]
  },
  {
   "cell_type": "markdown",
   "metadata": {},
   "source": [
    "Установим требуемые нам библиотеки: \n",
    "* `byaldi` - высокоуровневый [фреймворк](https://github.com/AnswerDotAI/byaldi) непосредственно для работы с моделями ColPali\n",
    "* `pdf2image` - для перевода `.pdf`-файлов в изображения\n",
    "* `poppler-utils` - для работы `pdf2image`\n",
    "* `Spire.Doc` - для перевода `.docx`-файлов в формат `.pdf`\n",
    "* `qwen-vl-utils` - для работы Qwen-VL-моделей"
   ]
  },
  {
   "cell_type": "markdown",
   "metadata": {},
   "source": [
    "Так же для работы обязательно потребуются данные (сами документы), предоставленные организаторами хакатона (архив `RAG.zip` весом в 450,4 МБ)."
   ]
  },
  {
   "cell_type": "markdown",
   "metadata": {},
   "source": [
    "Так как вся работа велась на Kaggle с использованием `GPU T4 x2`, то документы при загрузке до их обработке лежали в папке `/kaggle/input/nornikel-2024`."
   ]
  },
  {
   "cell_type": "code",
   "execution_count": 1,
   "metadata": {
    "_cell_guid": "b1076dfc-b9ad-4769-8c92-a6c4dae69d19",
    "_uuid": "8f2839f25d086af736a60e9eeb907d3b93b6e0e5",
    "execution": {
     "iopub.execute_input": "2024-12-07T14:08:48.899934Z",
     "iopub.status.busy": "2024-12-07T14:08:48.899613Z",
     "iopub.status.idle": "2024-12-07T14:09:54.486949Z",
     "shell.execute_reply": "2024-12-07T14:09:54.485956Z",
     "shell.execute_reply.started": "2024-12-07T14:08:48.899903Z"
    }
   },
   "outputs": [
    {
     "name": "stdout",
     "output_type": "stream",
     "text": [
      "Reading package lists...\n",
      "Building dependency tree...\n",
      "Reading state information...\n",
      "The following additional packages will be installed:\n",
      "  libpoppler118 poppler-data\n",
      "Suggested packages:\n",
      "  ghostscript fonts-japanese-mincho | fonts-ipafont-mincho\n",
      "  fonts-japanese-gothic | fonts-ipafont-gothic fonts-arphic-ukai\n",
      "  fonts-arphic-uming fonts-nanum\n",
      "The following NEW packages will be installed:\n",
      "  libpoppler118 poppler-data poppler-utils\n",
      "0 upgraded, 3 newly installed, 0 to remove and 72 not upgraded.\n",
      "Need to get 3427 kB of archives.\n",
      "After this operation, 17.7 MB of additional disk space will be used.\n",
      "Get:1 http://archive.ubuntu.com/ubuntu jammy/main amd64 poppler-data all 0.4.11-1 [2171 kB]\n",
      "Get:2 http://archive.ubuntu.com/ubuntu jammy-updates/main amd64 libpoppler118 amd64 22.02.0-2ubuntu0.5 [1071 kB]\n",
      "Get:3 http://archive.ubuntu.com/ubuntu jammy-updates/main amd64 poppler-utils amd64 22.02.0-2ubuntu0.5 [186 kB]\n",
      "Fetched 3427 kB in 1s (4649 kB/s)\n",
      "Selecting previously unselected package poppler-data.\n",
      "(Reading database ... 122997 files and directories currently installed.)\n",
      "Preparing to unpack .../poppler-data_0.4.11-1_all.deb ...\n",
      "Unpacking poppler-data (0.4.11-1) ...\n",
      "Selecting previously unselected package libpoppler118:amd64.\n",
      "Preparing to unpack .../libpoppler118_22.02.0-2ubuntu0.5_amd64.deb ...\n",
      "Unpacking libpoppler118:amd64 (22.02.0-2ubuntu0.5) ...\n",
      "Selecting previously unselected package poppler-utils.\n",
      "Preparing to unpack .../poppler-utils_22.02.0-2ubuntu0.5_amd64.deb ...\n",
      "Unpacking poppler-utils (22.02.0-2ubuntu0.5) ...\n",
      "Setting up poppler-data (0.4.11-1) ...\n",
      "Setting up libpoppler118:amd64 (22.02.0-2ubuntu0.5) ...\n",
      "Setting up poppler-utils (22.02.0-2ubuntu0.5) ...\n",
      "Processing triggers for libc-bin (2.35-0ubuntu3.8) ...\n",
      "Processing triggers for man-db (2.10.2-1) ...\n",
      "Processing triggers for fontconfig (2.13.1-4.2ubuntu5) ...\n"
     ]
    }
   ],
   "source": [
    "!pip install --upgrade byaldi -q\n",
    "!sudo apt-get install -y poppler-utils -q\n",
    "!pip install -q pdf2image flash-attn -q\n",
    "!pip install Spire.Doc -q\n",
    "!pip install qwen-vl-utils -q"
   ]
  },
  {
   "cell_type": "markdown",
   "metadata": {},
   "source": [
    "Определим папку, где у нас лежат первоначальные данные `input_folder`, а так же папку, куда мы переведём файлы непосредственно для работы с RAG-системой `working_folder`."
   ]
  },
  {
   "cell_type": "code",
   "execution_count": 2,
   "metadata": {
    "execution": {
     "iopub.execute_input": "2024-12-07T14:09:54.488972Z",
     "iopub.status.busy": "2024-12-07T14:09:54.488688Z",
     "iopub.status.idle": "2024-12-07T14:10:13.140333Z",
     "shell.execute_reply": "2024-12-07T14:10:13.139654Z",
     "shell.execute_reply.started": "2024-12-07T14:09:54.488945Z"
    }
   },
   "outputs": [],
   "source": [
    "from byaldi import RAGMultiModalModel\n",
    "import torch\n",
    "from pdf2image import convert_from_path\n",
    "import os\n",
    "import shutil\n",
    "from spire.doc import *\n",
    "from spire.doc.common import *\n",
    "import gzip\n",
    "import json\n",
    "from PIL import Image, ImageFilter\n",
    "\n",
    "\n",
    "#device = torch.device('cuda') if torch.cuda.is_available() else torch.device('cpu')\n",
    "input_folder = '/kaggle/input/nornikel-2024/'\n",
    "working_folder = '/kaggle/working/nornikel-2024/'\n",
    "\n",
    "if not os.path.exists(working_folder):\n",
    "    os.makedirs(working_folder)"
   ]
  },
  {
   "cell_type": "markdown",
   "metadata": {},
   "source": [
    "# 2. Подготовка данных"
   ]
  },
  {
   "cell_type": "code",
   "execution_count": 3,
   "metadata": {
    "execution": {
     "iopub.execute_input": "2024-12-07T14:10:13.142315Z",
     "iopub.status.busy": "2024-12-07T14:10:13.141694Z",
     "iopub.status.idle": "2024-12-07T14:10:13.146730Z",
     "shell.execute_reply": "2024-12-07T14:10:13.145848Z",
     "shell.execute_reply.started": "2024-12-07T14:10:13.142286Z"
    }
   },
   "outputs": [],
   "source": [
    "def convert_doc_to_pdf(doc_path, pdf_path):\n",
    "    '''Конвертация файлов MS Word в .pdf'''\n",
    "    document = Document()\n",
    "    document.LoadFromFile(doc_path)\n",
    "    document.SaveToFile(pdf_path, FileFormat.PDF)\n",
    "    document.Close()"
   ]
  },
  {
   "cell_type": "code",
   "execution_count": 4,
   "metadata": {
    "execution": {
     "iopub.execute_input": "2024-12-07T14:10:13.149468Z",
     "iopub.status.busy": "2024-12-07T14:10:13.149018Z",
     "iopub.status.idle": "2024-12-07T14:10:21.847588Z",
     "shell.execute_reply": "2024-12-07T14:10:21.846672Z",
     "shell.execute_reply.started": "2024-12-07T14:10:13.149430Z"
    }
   },
   "outputs": [
    {
     "name": "stdout",
     "output_type": "stream",
     "text": [
      "Копирован файл: Alrosa_Обзор_рынка_инвестиционных_бриллиантов_октябрь_2024.pdf\n",
      "Копирован файл: Росконгресс_Рынок_промышленных_роботов_в_мире_и_России_2024_16_стр.pdf\n",
      "Копирован файл: nn_climate_change_report_rus.pdf\n",
      "Копирован файл: Норникель про корп культуру.pdf\n",
      "Копирован файл: ММК 2024.pdf\n",
      "Копирован файл: Доклад, уголь часть 1.pdf\n",
      "Копирован файл: Godovoi_-otchet-PAO-GMK-Norilskii_-nikel-za-2023-god.pdf\n",
      "Копирован файл: sr_ru_annual_report_pages_nornik_2022.pdf\n",
      "Копирован файл: Норникель_Внутрення_цена_на_углерод.pdf\n",
      "Копирован файл: 2_5282802846297776741.pdf\n",
      "Копирован и переведён в формат .pdf файл: СП_496_1325800_2020_Основания_и_фундаменты_зданий_и_сооружений.pdf\n",
      "Копирован файл: digital_production_5.pdf\n",
      "Копирован файл: NN_AR_2021_Book_RUS_26.09.22.pdf\n",
      "Копирован файл: McKinsey_Next Big Arenas_2024 (213 pgs).pdf\n",
      "Копирован файл: KPMG_Global Metals and Mining_2024 (48 pgs).pdf\n",
      "Копирован файл: NN_CSO2021_RUS_03.03.2023.pdf\n",
      "Копирован файл: 2022_Annual_Report_of_PJSC_MMC_Norilsk_Nickel_rus.pdf\n",
      "Копирован файл: НЛМК 2024.pdf\n",
      "Копирован файл: responsible_supply_chain_report_rus.pdf\n",
      "Копирован файл: Kept_Золотодобывающие_компании_2024_25_стр.pdf\n",
      "Копирован файл: ТеДо_и_СУЭК_Перспективы_развития_экспорта_российского_угля_202.pdf\n",
      "Копирован файл: nn_cso_2023_rus.pdf\n",
      "Копирован файл: 2_5366183129474161642.pdf\n",
      "Копирован файл: K2Tex_x_TeДо_Российский_рынок_ИТ_2024_30_стр.pdf\n",
      "Копирован файл: Цифровизация_горно_металлургической_отрасли_России_в_2024_г_.pdf\n",
      "Копирован и переведён в формат .pdf файл: Постановление_Правительства_РФ_от_16_02_2008_N_87_О_составе_разделов.pdf\n",
      "Копирован файл: Kept_Обзор_цен_в_металлургической_отрасли_2К2024.pdf\n"
     ]
    }
   ],
   "source": [
    "all_documents = os.listdir(input_folder)\n",
    "\n",
    "for file in all_documents:\n",
    "    file_path = os.path.join(input_folder, file)\n",
    "    if file_path.endswith('.docx') or file_path.endswith('.doc'):\n",
    "        file_path = convert_doc_to_pdf(file_path, working_folder + file[:-4] + 'pdf')\n",
    "        print(f\"Копирован и переведён в формат .pdf файл: {file[:-4] + 'pdf'}\")\n",
    "    else:\n",
    "        shutil.copy(file_path, working_folder)\n",
    "        print(f\"Копирован файл: {file}\")"
   ]
  },
  {
   "cell_type": "markdown",
   "metadata": {},
   "source": [
    "Определим метод RAGMultiModalModel из библиотеки byaldi, который отвечает за создание мультимодальной RAG-системы с помощью модели ColPali. На данный момент стабильная версия считается `vidore/colpali-v1.2`."
   ]
  },
  {
   "cell_type": "markdown",
   "metadata": {},
   "source": [
    "# 3. Создание векторной базы данных"
   ]
  },
  {
   "cell_type": "code",
   "execution_count": 5,
   "metadata": {
    "execution": {
     "iopub.execute_input": "2024-12-07T14:10:21.848781Z",
     "iopub.status.busy": "2024-12-07T14:10:21.848515Z",
     "iopub.status.idle": "2024-12-07T14:12:53.537843Z",
     "shell.execute_reply": "2024-12-07T14:12:53.537100Z",
     "shell.execute_reply.started": "2024-12-07T14:10:21.848756Z"
    }
   },
   "outputs": [
    {
     "name": "stdout",
     "output_type": "stream",
     "text": [
      "Verbosity is set to 1 (active). Pass verbose=0 to make quieter.\n"
     ]
    },
    {
     "data": {
      "application/vnd.jupyter.widget-view+json": {
       "model_id": "e874ed8bfb9c498fab2d5e292ba8638d",
       "version_major": 2,
       "version_minor": 0
      },
      "text/plain": [
       "adapter_config.json:   0%|          | 0.00/750 [00:00<?, ?B/s]"
      ]
     },
     "metadata": {},
     "output_type": "display_data"
    },
    {
     "data": {
      "application/vnd.jupyter.widget-view+json": {
       "model_id": "b23651ba385243cb9fd67f5d45730acd",
       "version_major": 2,
       "version_minor": 0
      },
      "text/plain": [
       "config.json:   0%|          | 0.00/1.01k [00:00<?, ?B/s]"
      ]
     },
     "metadata": {},
     "output_type": "display_data"
    },
    {
     "data": {
      "application/vnd.jupyter.widget-view+json": {
       "model_id": "c9a1f2d799ff41378159e3d530d655d8",
       "version_major": 2,
       "version_minor": 0
      },
      "text/plain": [
       "model.safetensors.index.json:   0%|          | 0.00/66.3k [00:00<?, ?B/s]"
      ]
     },
     "metadata": {},
     "output_type": "display_data"
    },
    {
     "data": {
      "application/vnd.jupyter.widget-view+json": {
       "model_id": "006af2233d214f088a455d63a92cc012",
       "version_major": 2,
       "version_minor": 0
      },
      "text/plain": [
       "Downloading shards:   0%|          | 0/2 [00:00<?, ?it/s]"
      ]
     },
     "metadata": {},
     "output_type": "display_data"
    },
    {
     "data": {
      "application/vnd.jupyter.widget-view+json": {
       "model_id": "3d563d18a7df4544a64a73b74a45947a",
       "version_major": 2,
       "version_minor": 0
      },
      "text/plain": [
       "model-00001-of-00002.safetensors:   0%|          | 0.00/4.99G [00:00<?, ?B/s]"
      ]
     },
     "metadata": {},
     "output_type": "display_data"
    },
    {
     "data": {
      "application/vnd.jupyter.widget-view+json": {
       "model_id": "407c7ae0d7b648baa253d238b7271785",
       "version_major": 2,
       "version_minor": 0
      },
      "text/plain": [
       "model-00002-of-00002.safetensors:   0%|          | 0.00/862M [00:00<?, ?B/s]"
      ]
     },
     "metadata": {},
     "output_type": "display_data"
    },
    {
     "name": "stderr",
     "output_type": "stream",
     "text": [
      "`config.hidden_act` is ignored, you should use `config.hidden_activation` instead.\n",
      "Gemma's activation function will be set to `gelu_pytorch_tanh`. Please, use\n",
      "`config.hidden_activation` if you want to override this behaviour.\n",
      "See https://github.com/huggingface/transformers/pull/29402 for more details.\n"
     ]
    },
    {
     "data": {
      "application/vnd.jupyter.widget-view+json": {
       "model_id": "b9bf24b62bd54b92a177f010d3396ea3",
       "version_major": 2,
       "version_minor": 0
      },
      "text/plain": [
       "Loading checkpoint shards:   0%|          | 0/2 [00:00<?, ?it/s]"
      ]
     },
     "metadata": {},
     "output_type": "display_data"
    },
    {
     "data": {
      "application/vnd.jupyter.widget-view+json": {
       "model_id": "bbfc3a7bef4044b686f80d7e0f07acfb",
       "version_major": 2,
       "version_minor": 0
      },
      "text/plain": [
       "adapter_model.safetensors:   0%|          | 0.00/78.6M [00:00<?, ?B/s]"
      ]
     },
     "metadata": {},
     "output_type": "display_data"
    },
    {
     "data": {
      "application/vnd.jupyter.widget-view+json": {
       "model_id": "eb441b0c3bd04802a8e59050d7a5526e",
       "version_major": 2,
       "version_minor": 0
      },
      "text/plain": [
       "preprocessor_config.json:   0%|          | 0.00/700 [00:00<?, ?B/s]"
      ]
     },
     "metadata": {},
     "output_type": "display_data"
    },
    {
     "data": {
      "application/vnd.jupyter.widget-view+json": {
       "model_id": "b0160b93df9a4164af979eaa0c11c2de",
       "version_major": 2,
       "version_minor": 0
      },
      "text/plain": [
       "tokenizer_config.json:   0%|          | 0.00/243k [00:00<?, ?B/s]"
      ]
     },
     "metadata": {},
     "output_type": "display_data"
    },
    {
     "data": {
      "application/vnd.jupyter.widget-view+json": {
       "model_id": "4150896d2bd34acbb956958c7a2b69f5",
       "version_major": 2,
       "version_minor": 0
      },
      "text/plain": [
       "tokenizer.json:   0%|          | 0.00/17.8M [00:00<?, ?B/s]"
      ]
     },
     "metadata": {},
     "output_type": "display_data"
    },
    {
     "data": {
      "application/vnd.jupyter.widget-view+json": {
       "model_id": "5444f8945e8b43da8a06807852555b17",
       "version_major": 2,
       "version_minor": 0
      },
      "text/plain": [
       "special_tokens_map.json:   0%|          | 0.00/733 [00:00<?, ?B/s]"
      ]
     },
     "metadata": {},
     "output_type": "display_data"
    }
   ],
   "source": [
    "RAG = RAGMultiModalModel.from_pretrained(\"vidore/colpali-v1.2\", device=device)"
   ]
  },
  {
   "cell_type": "markdown",
   "metadata": {},
   "source": [
    "Создадим нашу векторную базу из всех документов, которые у нас есть. Необходимо, чтобы данные лежали в папке `working_folder`."
   ]
  },
  {
   "cell_type": "code",
   "execution_count": null,
   "metadata": {
    "execution": {
     "iopub.execute_input": "2024-12-07T14:12:53.539446Z",
     "iopub.status.busy": "2024-12-07T14:12:53.539128Z"
    }
   },
   "outputs": [
    {
     "name": "stdout",
     "output_type": "stream",
     "text": [
      "Indexing file: /kaggle/working/nornikel-2024/Росконгресс_Рынок_промышленных_роботов_в_мире_и_России_2024_16_стр.pdf\n",
      "Added page 1 of document 0 to index.\n",
      "Added page 2 of document 0 to index.\n",
      "Added page 3 of document 0 to index.\n",
      "Added page 4 of document 0 to index.\n",
      "Added page 5 of document 0 to index.\n",
      "Added page 6 of document 0 to index.\n",
      "Added page 7 of document 0 to index.\n",
      "Added page 8 of document 0 to index.\n",
      "Added page 9 of document 0 to index.\n",
      "Added page 10 of document 0 to index.\n",
      "Added page 11 of document 0 to index.\n",
      "Added page 12 of document 0 to index.\n",
      "Added page 13 of document 0 to index.\n",
      "Added page 14 of document 0 to index.\n",
      "Added page 15 of document 0 to index.\n",
      "Added page 16 of document 0 to index.\n",
      "Index exported to .byaldi/nornikel_index\n",
      "Indexing file: /kaggle/working/nornikel-2024/nn_climate_change_report_rus.pdf\n",
      "Added page 1 of document 1 to index.\n",
      "Added page 2 of document 1 to index.\n",
      "Added page 3 of document 1 to index.\n",
      "Added page 4 of document 1 to index.\n",
      "Added page 5 of document 1 to index.\n",
      "Added page 6 of document 1 to index.\n",
      "Added page 7 of document 1 to index.\n",
      "Added page 8 of document 1 to index.\n",
      "Added page 9 of document 1 to index.\n",
      "Added page 10 of document 1 to index.\n",
      "Added page 11 of document 1 to index.\n",
      "Added page 12 of document 1 to index.\n",
      "Added page 13 of document 1 to index.\n",
      "Added page 14 of document 1 to index.\n",
      "Added page 15 of document 1 to index.\n",
      "Added page 16 of document 1 to index.\n",
      "Added page 17 of document 1 to index.\n",
      "Added page 18 of document 1 to index.\n",
      "Added page 19 of document 1 to index.\n",
      "Added page 20 of document 1 to index.\n",
      "Added page 21 of document 1 to index.\n",
      "Added page 22 of document 1 to index.\n",
      "Added page 23 of document 1 to index.\n",
      "Added page 24 of document 1 to index.\n",
      "Added page 25 of document 1 to index.\n",
      "Added page 26 of document 1 to index.\n",
      "Added page 27 of document 1 to index.\n",
      "Added page 28 of document 1 to index.\n",
      "Added page 29 of document 1 to index.\n",
      "Added page 30 of document 1 to index.\n",
      "Added page 31 of document 1 to index.\n",
      "Added page 32 of document 1 to index.\n",
      "Added page 33 of document 1 to index.\n",
      "Added page 34 of document 1 to index.\n",
      "Added page 35 of document 1 to index.\n",
      "Added page 36 of document 1 to index.\n",
      "Added page 37 of document 1 to index.\n",
      "Added page 38 of document 1 to index.\n",
      "Added page 39 of document 1 to index.\n",
      "Index exported to .byaldi/nornikel_index\n",
      "Indexing file: /kaggle/working/nornikel-2024/nn_cso_2023_rus.pdf\n"
     ]
    }
   ],
   "source": [
    "RAG.index(\n",
    "    input_path=working_folder,\n",
    "    index_name='nornikel_index',\n",
    "    store_collection_with_index=False,\n",
    "    overwrite=True\n",
    ")"
   ]
  },
  {
   "cell_type": "markdown",
   "metadata": {},
   "source": [
    "Сформируем текстовый запрос, чтобы убедиться, что модель работает. Определим k страниц, где есть релевантная информация."
   ]
  },
  {
   "cell_type": "code",
   "execution_count": null,
   "metadata": {},
   "outputs": [],
   "source": [
    "text_query = \"Какой актив формирует наибольшую долю FCF? Какой актив на 2 месте?\"\n",
    "results = RAG.search(text_query, k=5)"
   ]
  },
  {
   "cell_type": "code",
   "execution_count": null,
   "metadata": {},
   "outputs": [],
   "source": [
    "for result in results:\n",
    "    doc_id = result['doc_id']\n",
    "    page_num = result['page_num']\n",
    "    score = result['score']\n",
    "\n",
    "    print(f\"Документ ID: {doc_id}, Страница: {page_num}, Релевантность: {score}\")"
   ]
  },
  {
   "cell_type": "markdown",
   "metadata": {},
   "source": [
    "Сохраним нашу векторную базу для дальнейшей эксплуатации."
   ]
  },
  {
   "cell_type": "code",
   "execution_count": null,
   "metadata": {},
   "outputs": [],
   "source": [
    "from zipfile import ZipFile\n",
    "\n",
    "byaldi_folder = '/kaggle/working/.byaldi' # папка, в которой лежит векторная БД\n",
    "archive_name = '/kaggle/working/byaldi.zip' # создаваемый нами архив с векторной БД\n",
    "if os.path.exists(byaldi_folder):\n",
    "    shutil.make_archive(archive_name.replace('.zip', ''), 'zip', byaldi_folder)\n",
    "    print(f\"Архив создан: {archive_name}\")\n",
    "else:\n",
    "    print(f\"Папка {byaldi_folder} не найдена.\")"
   ]
  },
  {
   "cell_type": "markdown",
   "metadata": {},
   "source": [
    "# 4. Работа с Qwen-2-VL"
   ]
  },
  {
   "cell_type": "markdown",
   "metadata": {},
   "source": [
    "Так как ColPali не считывает напрямую текст с документов и изображений, нам потребуется языковая LLM или VLM. Для ответа по релевантным страницам документов и текстовому запросу используем VLM-модель `Qwen-2-VL-2B`, а именно дообученную на русских текстах версию от Vikhrmodels: `Vikhr-2-VL-2b-Instruct-experimental`."
   ]
  },
  {
   "cell_type": "code",
   "execution_count": null,
   "metadata": {},
   "outputs": [],
   "source": [
    "from transformers import Qwen2VLForConditionalGeneration, AutoTokenizer, AutoProcessor\n",
    "from qwen_vl_utils import process_vision_info\n",
    "\n",
    "model_id = \"Vikhrmodels/Vikhr-2-VL-2b-Instruct-experimental\"\n",
    "\n",
    "model = Qwen2VLForConditionalGeneration.from_pretrained(\n",
    "    model_id, torch_dtype=\"auto\", device_map=\"cuda:1\"\n",
    ")\n",
    "\n",
    "processor = AutoProcessor.from_pretrained(model_id)"
   ]
  },
  {
   "cell_type": "markdown",
   "metadata": {},
   "source": [
    "Ниже мы берём релевантные страницы разных документов и переводим их в изображения. С целью оптимизации потребрения оперативной памяти снизим размер изображения примерно до 1000 пикселей в длине."
   ]
  },
  {
   "cell_type": "code",
   "execution_count": null,
   "metadata": {},
   "outputs": [],
   "source": [
    "def resize_text(img, max_size=1000):\n",
    "    '''Изменение размера изображения'''\n",
    "    width, height = img.size\n",
    "    if max(width, height) > max_size:\n",
    "        if width > height:\n",
    "            new_width = max_size\n",
    "            new_height = int(height * (max_size / width))\n",
    "        else:\n",
    "            new_height = max_size\n",
    "            new_width = int(width * (max_size / height))\n",
    "            \n",
    "        img = img.resize((new_width, new_height), Image.LANCZOS)\n",
    "        img = img.filter(ImageFilter.SHARPEN)\n",
    "\n",
    "    return img"
   ]
  },
  {
   "cell_type": "code",
   "execution_count": null,
   "metadata": {},
   "outputs": [],
   "source": [
    "def get_relevant_images_ready(docs_names, results):\n",
    "    '''Функция-пайплайн для подготовки релевантных страниц к текстовому запросу'''\n",
    "    images = [docs_names[results[i]['doc_id']] for i in range(len(results))]\n",
    "    image_path = '/kaggle/working/nornikel-2024/relevant_images/'\n",
    "    \n",
    "    os.makedirs(image_path, exist_ok=True)\n",
    "    pages_to_convert = dict()\n",
    "    \n",
    "    for doc, page in zip(images, [doc['page_num'] for doc in results]):\n",
    "        pages_to_convert.setdefault(doc, []).append(page)\n",
    "    \n",
    "    ready_images_for_context = []\n",
    "    \n",
    "    for i, (pdf, pages) in enumerate(pages_to_convert.items()):\n",
    "        for j, page in enumerate(pages):\n",
    "            output_img_name = f'{image_path}/image_{i + 1}_{j + 1}.jpg'\n",
    "            \n",
    "            image = convert_from_path(pdf, first_page=page, last_page=page)\n",
    "            image = resize_text(*image)\n",
    "            image.save(output_img_name, 'JPEG')\n",
    "\n",
    "            ready_images_for_context.append(output_img_name)\n",
    "    \n",
    "\n",
    "    return ready_images_for_context"
   ]
  },
  {
   "cell_type": "code",
   "execution_count": null,
   "metadata": {},
   "outputs": [],
   "source": [
    "relevant_images = get_relevant_images_ready(docs_names, results)"
   ]
  },
  {
   "cell_type": "markdown",
   "metadata": {},
   "source": [
    "# 5. Выполнение поискового запроса в VLM"
   ]
  },
  {
   "cell_type": "markdown",
   "metadata": {},
   "source": [
    "Формируем контент для контектного окна, куда мы передаём наш текстовый запрос и пути по готовых изображений."
   ]
  },
  {
   "cell_type": "code",
   "execution_count": null,
   "metadata": {},
   "outputs": [],
   "source": [
    "content = [\n",
    "    *[{\"type\": \"image\", \"image\": image} for image in relevant_images],\n",
    "    {\"type\": \"text\", \"text\": text_query}\n",
    "]\n",
    "\n",
    "role_text = '''Ты бизнес-ассистент в компании Норникель. По существу и профессионально ответь на вопрос, опираясь на контекст изображений.'''"
   ]
  },
  {
   "cell_type": "code",
   "execution_count": null,
   "metadata": {},
   "outputs": [],
   "source": [
    "messages = [\n",
    "    {\"role\": \"system\", \"content\": [{\"type\": \"text\", \"text\": role_text}]},\n",
    "    {\n",
    "        \"role\": \"user\",\n",
    "        \"content\": content,\n",
    "    }\n",
    "]\n",
    "\n",
    "display(messages)"
   ]
  },
  {
   "cell_type": "code",
   "execution_count": null,
   "metadata": {},
   "outputs": [],
   "source": [
    "text = processor.apply_chat_template(\n",
    "    messages, tokenize=False, add_generation_prompt=True\n",
    ")\n",
    "image_inputs, video_inputs = process_vision_info(messages)\n",
    "inputs = processor(\n",
    "    text=[text],\n",
    "    images=image_inputs,\n",
    "    videos=video_inputs,\n",
    "    padding=True,\n",
    "    return_tensors=\"pt\",\n",
    ")\n",
    "inputs = inputs.to(\"cuda:1\")"
   ]
  },
  {
   "cell_type": "markdown",
   "metadata": {},
   "source": [
    "После передачи текстового запроса в модель получаем готовый сгенерированный моделью ответ."
   ]
  },
  {
   "cell_type": "code",
   "execution_count": null,
   "metadata": {},
   "outputs": [],
   "source": [
    "generated_ids = model.generate(\n",
    "    **inputs,\n",
    "    max_length=2048,\n",
    "    temperature=0.3,\n",
    "    top_k=100,\n",
    "    top_p=0.95,\n",
    "    max_new_tokens=1024\n",
    ")\n",
    "generated_ids_trimmed = [\n",
    "    out_ids[len(in_ids) :] for in_ids, out_ids in zip(inputs.input_ids, generated_ids)\n",
    "]\n",
    "output_text = processor.batch_decode(\n",
    "    generated_ids_trimmed, skip_special_tokens=True, clean_up_tokenization_spaces=False\n",
    ")\n",
    "\n",
    "torch.cuda.empty_cache()\n",
    "\n",
    "print(output_text[0])"
   ]
  },
  {
   "cell_type": "markdown",
   "metadata": {},
   "source": [
    "# 6. Тест ответов на тренировочные вопросы хакатона"
   ]
  },
  {
   "cell_type": "markdown",
   "metadata": {},
   "source": [
    "Выпишем себе вопросы, которые задавались бы нашей системе в рамках тренировки."
   ]
  },
  {
   "cell_type": "code",
   "execution_count": null,
   "metadata": {},
   "outputs": [],
   "source": [
    "questions = '''1. Долевое участие металлов в EBITDA компании? То есть какой % EBITDA и EBITDA margin принесли продажи Ni, Cu и т д\n",
    "2. Как эта доля менялась от года к году (наверн нужно приложить отчеты хотя бы за 2-3 года)?\n",
    "3. Топ 5 факторов снижения EBITDA г/г? Также и EBITDA margin\n",
    "4. Какой актив формирует наибольшую долю FCF? Какой актив на 2 месте?\n",
    "5. Какие активы являются убыточными? Можно ли их исключить из производственной цепочки без последствий для общего цикла производства металлов?\n",
    "6. Какой прогноз по содержанию металлов руд НН на следующие 5 лет? \n",
    "7. Какую долю рынка занимает НН в производстве металлов? Как изменялась доля НН г/г? Какой прогноз на 5 лет?\n",
    "8. Как изменялся прогноз по предложению и спросу на Ni, Cu, Au в отчетах за разные года, например какой был прогноз в отчете за 2020 год на 2021/22/23? Какое было фактическое предложение и спрос в годовых отчетах 2021/22/23? Исходя из этого сделай вывод о целесообразности доверия таким прогнозам в целом'''"
   ]
  },
  {
   "cell_type": "code",
   "execution_count": null,
   "metadata": {},
   "outputs": [],
   "source": [
    "questions = [q[3:] for q in questions.split('\\n')]\n",
    "display(questions)"
   ]
  },
  {
   "cell_type": "markdown",
   "metadata": {},
   "source": [
    "Далее составим функцию-пайплайн, которая будет содержать главные моменты: через получение запроса поиск релевантных страниц в документах, перевод этих страниц в изображения с уменьшением размерности, а так же составлением промпта с передачей его в VLM для генерации ответа на вопрос пользователя в текстовом запросе."
   ]
  },
  {
   "cell_type": "code",
   "execution_count": null,
   "metadata": {},
   "outputs": [],
   "source": [
    "def get_answer_on_query(text_query, k=3, model=model, processor=processor, role_text=role_text):\n",
    "    '''Функция-пайплан для поиска по вектрной базе, обработки релевантных страниц документов и генерация ответа'''\n",
    "    \n",
    "    # 1. Поиск релевантных страниц в векторной базе\n",
    "    results = RAG.search(text_query, k=k)\n",
    "\n",
    "    # 2. Перевод релевантных страниц в изображения\n",
    "    relevant_images = get_relevant_images_ready(docs_names, results)\n",
    "\n",
    "    # 3. Формирование промпта\n",
    "    content = [\n",
    "    *[{\"type\": \"image\", \"image\": image} for image in relevant_images],\n",
    "    {\"type\": \"text\", \"text\": text_query}\n",
    "    ]\n",
    "\n",
    "    messages = [\n",
    "    {\"role\": \"system\", \"content\": [{\"type\": \"text\", \"text\": role_text}]},\n",
    "    {\n",
    "        \"role\": \"user\",\n",
    "        \"content\": content,\n",
    "    }\n",
    "    ]\n",
    "\n",
    "    # 4. Токенизация промпта\n",
    "\n",
    "    text = processor.apply_chat_template(\n",
    "    messages, tokenize=False, add_generation_prompt=True\n",
    "    )\n",
    "    image_inputs, video_inputs = process_vision_info(messages)\n",
    "    inputs = processor(\n",
    "        text=[text],\n",
    "        images=image_inputs,\n",
    "        videos=video_inputs,\n",
    "        padding=True,\n",
    "        return_tensors=\"pt\",\n",
    "    )\n",
    "    inputs = inputs.to(\"cuda:1\")\n",
    "\n",
    "    # 5. Передача затокенизированного промпта в VLM\n",
    "    generated_ids = model.generate(\n",
    "    **inputs,\n",
    "    max_length=2048,\n",
    "    temperature=0.3,\n",
    "    top_k=100,\n",
    "    top_p=0.95,\n",
    "    max_new_tokens=1024\n",
    "    )\n",
    "    generated_ids_trimmed = [\n",
    "        out_ids[len(in_ids) :] for in_ids, out_ids in zip(inputs.input_ids, generated_ids)\n",
    "    ]\n",
    "    output_text = processor.batch_decode(\n",
    "        generated_ids_trimmed, skip_special_tokens=True, clean_up_tokenization_spaces=False\n",
    "    )\n",
    "\n",
    "    # 6. Вывод на экран вопроса пользователя, сгенерированного ответа и релевантные изображения\n",
    "    print('-' * 50)\n",
    "    print('user_question:', text_query)\n",
    "    print()\n",
    "    print('VLM_answer:', output_text[0])\n",
    "\n",
    "    img1 = Image.open(relevant_images[0])\n",
    "    img2 = Image.open(relevant_images[1])\n",
    "    combined_image = Image.concat(images=[img1, img2], direction=\"horizontal\")\n",
    "    combined_image.show()\n",
    "    \n",
    "    print('-' * 50)\n",
    "    \n",
    "    shutil.rmtree(\"/kaggle/working/nornikel-2024/relevant_images\")\n",
    "    os.makedirs(\"/kaggle/working/nornikel-2024/relevant_images\")\n",
    "\n",
    "    torch.cuda.empty_cache()"
   ]
  },
  {
   "cell_type": "markdown",
   "metadata": {},
   "source": [
    "Запустим ниже процесс генерации ответов"
   ]
  },
  {
   "cell_type": "code",
   "execution_count": null,
   "metadata": {},
   "outputs": [],
   "source": [
    "role_text = '''Ты бизнес-ассистент в компании Норникель. По существу и профессионально ответь на вопрос, опираясь на контекст изображений.'''\n",
    "\n",
    "for i, q in enumerate(questions, start=1):\n",
    "    print(f'Question {i}')\n",
    "    get_answer_on_query(q)"
   ]
  },
  {
   "cell_type": "markdown",
   "metadata": {},
   "source": [
    "# Заключение 🏁\n",
    "\n",
    "Данный ноутбук содержит всю необходимую информацию для реализации мультимодальной системы интеллектуального поиска и анализа данных в рамках хакатона Норникеля. \n",
    "\n",
    "Ключевые компоненты решения включают:\n",
    "- Препроцессинг и векторизацию разнородных данных \n",
    "- Построение семантического поиска с использованием технологий RAG и ColPali\n",
    "- Применение мультимодальной языковой модели Qwen-2-VL для генерации контекстных ответов\n",
    "\n",
    "Реализация этих компонентов позволит разработать эффективную систему, способную обрабатывать большие объемы информации из различных источников, обеспечивая быструю и точную индексацию, а также повышая общую продуктивность работы с документами в производственной среде. 🚀"
   ]
  },
  {
   "cell_type": "code",
   "execution_count": null,
   "metadata": {},
   "outputs": [],
   "source": []
  }
 ],
 "metadata": {
  "kaggle": {
   "accelerator": "nvidiaTeslaT4",
   "dataSources": [
    {
     "datasetId": 6245083,
     "sourceId": 10120929,
     "sourceType": "datasetVersion"
    }
   ],
   "dockerImageVersionId": 30805,
   "isGpuEnabled": true,
   "isInternetEnabled": true,
   "language": "python",
   "sourceType": "notebook"
  },
  "kernelspec": {
   "display_name": "Python 3 (ipykernel)",
   "language": "python",
   "name": "python3"
  },
  "language_info": {
   "codemirror_mode": {
    "name": "ipython",
    "version": 3
   },
   "file_extension": ".py",
   "mimetype": "text/x-python",
   "name": "python",
   "nbconvert_exporter": "python",
   "pygments_lexer": "ipython3",
   "version": "3.12.4"
  }
 },
 "nbformat": 4,
 "nbformat_minor": 4
}
