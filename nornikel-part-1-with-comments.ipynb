{
 "cells": [
  {
   "cell_type": "markdown",
   "metadata": {},
   "source": [
    " # Multimodal RAG Model using Byaldi"
   ]
  },
  {
   "cell_type": "markdown",
   "metadata": {},
   "source": [
    "Установим требуемые нам библиотеки: \n",
    "* `byaldi` - высокоуровневый [фреймворк](https://github.com/AnswerDotAI/byaldi) непосредственно для работы с моделями ColPali\n",
    "* `pdf2image` - для перевода `.pdf`-файлов в изображения\n",
    "* `poppler-utils` - для работы `pdf2image`\n",
    "* `Spire.Doc` - для перевода `.docx`-файлов в формат `.pdf`"
   ]
  },
  {
   "cell_type": "code",
   "execution_count": 5,
   "metadata": {
    "_cell_guid": "b1076dfc-b9ad-4769-8c92-a6c4dae69d19",
    "_uuid": "8f2839f25d086af736a60e9eeb907d3b93b6e0e5"
   },
   "outputs": [
    {
     "name": "stdout",
     "output_type": "stream",
     "text": [
      "Requirement already satisfied: byaldi in c:\\users\\сергей\\appdata\\local\\programs\\python\\python312\\lib\\site-packages (0.0.7)\n",
      "Requirement already satisfied: colpali-engine<0.4.0,>=0.3.4 in c:\\users\\сергей\\appdata\\local\\programs\\python\\python312\\lib\\site-packages (from byaldi) (0.3.4)\n",
      "Requirement already satisfied: ml-dtypes in c:\\users\\сергей\\appdata\\local\\programs\\python\\python312\\lib\\site-packages (from byaldi) (0.5.0)\n",
      "Requirement already satisfied: mteb==1.6.35 in c:\\users\\сергей\\appdata\\local\\programs\\python\\python312\\lib\\site-packages (from byaldi) (1.6.35)\n",
      "Requirement already satisfied: ninja in c:\\users\\сергей\\appdata\\local\\programs\\python\\python312\\lib\\site-packages (from byaldi) (1.11.1.2)\n",
      "Requirement already satisfied: pdf2image in c:\\users\\сергей\\appdata\\local\\programs\\python\\python312\\lib\\site-packages (from byaldi) (1.17.0)\n",
      "Requirement already satisfied: srsly in c:\\users\\сергей\\appdata\\local\\programs\\python\\python312\\lib\\site-packages (from byaldi) (2.4.8)\n",
      "Requirement already satisfied: torch in c:\\users\\сергей\\appdata\\local\\programs\\python\\python312\\lib\\site-packages (from byaldi) (2.5.1)\n",
      "Requirement already satisfied: transformers>=4.42.0 in c:\\users\\сергей\\appdata\\local\\programs\\python\\python312\\lib\\site-packages (from byaldi) (4.46.3)\n",
      "Requirement already satisfied: datasets>=2.2.0 in c:\\users\\сергей\\appdata\\local\\programs\\python\\python312\\lib\\site-packages (from mteb==1.6.35->byaldi) (3.1.0)\n",
      "Requirement already satisfied: jsonlines in c:\\users\\сергей\\appdata\\local\\programs\\python\\python312\\lib\\site-packages (from mteb==1.6.35->byaldi) (4.0.0)\n",
      "Requirement already satisfied: numpy in c:\\users\\сергей\\appdata\\local\\programs\\python\\python312\\lib\\site-packages (from mteb==1.6.35->byaldi) (1.26.4)\n",
      "Requirement already satisfied: requests>=2.26.0 in c:\\users\\сергей\\appdata\\local\\programs\\python\\python312\\lib\\site-packages (from mteb==1.6.35->byaldi) (2.32.3)\n",
      "Requirement already satisfied: scikit-learn>=1.0.2 in c:\\users\\сергей\\appdata\\local\\programs\\python\\python312\\lib\\site-packages (from mteb==1.6.35->byaldi) (1.5.2)\n",
      "Requirement already satisfied: scipy in c:\\users\\сергей\\appdata\\local\\programs\\python\\python312\\lib\\site-packages (from mteb==1.6.35->byaldi) (1.13.1)\n",
      "Requirement already satisfied: sentence-transformers>=2.2.0 in c:\\users\\сергей\\appdata\\local\\programs\\python\\python312\\lib\\site-packages (from mteb==1.6.35->byaldi) (3.3.1)\n",
      "Requirement already satisfied: tqdm in c:\\users\\сергей\\appdata\\local\\programs\\python\\python312\\lib\\site-packages (from mteb==1.6.35->byaldi) (4.66.4)\n",
      "Requirement already satisfied: rich in c:\\users\\сергей\\appdata\\local\\programs\\python\\python312\\lib\\site-packages (from mteb==1.6.35->byaldi) (13.9.4)\n",
      "Requirement already satisfied: pytrec-eval-terrier>=0.5.6 in c:\\users\\сергей\\appdata\\local\\programs\\python\\python312\\lib\\site-packages (from mteb==1.6.35->byaldi) (0.5.6)\n",
      "Requirement already satisfied: pydantic in c:\\users\\сергей\\appdata\\local\\programs\\python\\python312\\lib\\site-packages (from mteb==1.6.35->byaldi) (2.10.3)\n",
      "Requirement already satisfied: typing-extensions in c:\\users\\сергей\\appdata\\local\\programs\\python\\python312\\lib\\site-packages (from mteb==1.6.35->byaldi) (4.12.2)\n",
      "Requirement already satisfied: eval-type-backport in c:\\users\\сергей\\appdata\\local\\programs\\python\\python312\\lib\\site-packages (from mteb==1.6.35->byaldi) (0.2.0)\n",
      "Requirement already satisfied: gputil in c:\\users\\сергей\\appdata\\local\\programs\\python\\python312\\lib\\site-packages (from colpali-engine<0.4.0,>=0.3.4->byaldi) (1.4.0)\n",
      "Requirement already satisfied: peft<0.12.0,>=0.11.0 in c:\\users\\сергей\\appdata\\local\\programs\\python\\python312\\lib\\site-packages (from colpali-engine<0.4.0,>=0.3.4->byaldi) (0.11.1)\n",
      "Requirement already satisfied: pillow<11.0.0,>=9.2.0 in c:\\users\\сергей\\appdata\\local\\programs\\python\\python312\\lib\\site-packages (from colpali-engine<0.4.0,>=0.3.4->byaldi) (10.3.0)\n",
      "Requirement already satisfied: filelock in c:\\users\\сергей\\appdata\\local\\programs\\python\\python312\\lib\\site-packages (from torch->byaldi) (3.15.3)\n",
      "Requirement already satisfied: networkx in c:\\users\\сергей\\appdata\\local\\programs\\python\\python312\\lib\\site-packages (from torch->byaldi) (3.4.2)\n",
      "Requirement already satisfied: jinja2 in c:\\users\\сергей\\appdata\\local\\programs\\python\\python312\\lib\\site-packages (from torch->byaldi) (3.1.4)\n",
      "Requirement already satisfied: fsspec in c:\\users\\сергей\\appdata\\local\\programs\\python\\python312\\lib\\site-packages (from torch->byaldi) (2024.9.0)\n",
      "Requirement already satisfied: setuptools in c:\\users\\сергей\\appdata\\local\\programs\\python\\python312\\lib\\site-packages (from torch->byaldi) (70.1.0)\n",
      "Requirement already satisfied: sympy==1.13.1 in c:\\users\\сергей\\appdata\\local\\programs\\python\\python312\\lib\\site-packages (from torch->byaldi) (1.13.1)\n",
      "Requirement already satisfied: mpmath<1.4,>=1.1.0 in c:\\users\\сергей\\appdata\\local\\programs\\python\\python312\\lib\\site-packages (from sympy==1.13.1->torch->byaldi) (1.3.0)\n",
      "Requirement already satisfied: huggingface-hub<1.0,>=0.23.2 in c:\\users\\сергей\\appdata\\local\\programs\\python\\python312\\lib\\site-packages (from transformers>=4.42.0->byaldi) (0.26.2)\n",
      "Requirement already satisfied: packaging>=20.0 in c:\\users\\сергей\\appdata\\local\\programs\\python\\python312\\lib\\site-packages (from transformers>=4.42.0->byaldi) (24.1)\n",
      "Requirement already satisfied: pyyaml>=5.1 in c:\\users\\сергей\\appdata\\local\\programs\\python\\python312\\lib\\site-packages (from transformers>=4.42.0->byaldi) (6.0.1)\n",
      "Requirement already satisfied: regex!=2019.12.17 in c:\\users\\сергей\\appdata\\local\\programs\\python\\python312\\lib\\site-packages (from transformers>=4.42.0->byaldi) (2024.11.6)\n",
      "Requirement already satisfied: tokenizers<0.21,>=0.20 in c:\\users\\сергей\\appdata\\local\\programs\\python\\python312\\lib\\site-packages (from transformers>=4.42.0->byaldi) (0.20.3)\n",
      "Requirement already satisfied: safetensors>=0.4.1 in c:\\users\\сергей\\appdata\\local\\programs\\python\\python312\\lib\\site-packages (from transformers>=4.42.0->byaldi) (0.4.5)\n",
      "Requirement already satisfied: catalogue<2.1.0,>=2.0.3 in c:\\users\\сергей\\appdata\\local\\programs\\python\\python312\\lib\\site-packages (from srsly->byaldi) (2.0.10)\n",
      "Requirement already satisfied: pyarrow>=15.0.0 in c:\\users\\сергей\\appdata\\local\\programs\\python\\python312\\lib\\site-packages (from datasets>=2.2.0->mteb==1.6.35->byaldi) (18.0.0)\n",
      "Requirement already satisfied: dill<0.3.9,>=0.3.0 in c:\\users\\сергей\\appdata\\local\\programs\\python\\python312\\lib\\site-packages (from datasets>=2.2.0->mteb==1.6.35->byaldi) (0.3.8)\n",
      "Requirement already satisfied: pandas in c:\\users\\сергей\\appdata\\local\\programs\\python\\python312\\lib\\site-packages (from datasets>=2.2.0->mteb==1.6.35->byaldi) (2.2.2)\n",
      "Requirement already satisfied: xxhash in c:\\users\\сергей\\appdata\\local\\programs\\python\\python312\\lib\\site-packages (from datasets>=2.2.0->mteb==1.6.35->byaldi) (3.5.0)\n",
      "Requirement already satisfied: multiprocess<0.70.17 in c:\\users\\сергей\\appdata\\local\\programs\\python\\python312\\lib\\site-packages (from datasets>=2.2.0->mteb==1.6.35->byaldi) (0.70.16)\n",
      "Requirement already satisfied: aiohttp in c:\\users\\сергей\\appdata\\local\\programs\\python\\python312\\lib\\site-packages (from datasets>=2.2.0->mteb==1.6.35->byaldi) (3.11.4)\n",
      "Requirement already satisfied: psutil in c:\\users\\сергей\\appdata\\local\\programs\\python\\python312\\lib\\site-packages (from peft<0.12.0,>=0.11.0->colpali-engine<0.4.0,>=0.3.4->byaldi) (6.0.0)\n",
      "Requirement already satisfied: accelerate>=0.21.0 in c:\\users\\сергей\\appdata\\local\\programs\\python\\python312\\lib\\site-packages (from peft<0.12.0,>=0.11.0->colpali-engine<0.4.0,>=0.3.4->byaldi) (1.2.0)\n",
      "Requirement already satisfied: charset-normalizer<4,>=2 in c:\\users\\сергей\\appdata\\local\\programs\\python\\python312\\lib\\site-packages (from requests>=2.26.0->mteb==1.6.35->byaldi) (3.3.2)\n",
      "Requirement already satisfied: idna<4,>=2.5 in c:\\users\\сергей\\appdata\\local\\programs\\python\\python312\\lib\\site-packages (from requests>=2.26.0->mteb==1.6.35->byaldi) (3.7)\n",
      "Requirement already satisfied: urllib3<3,>=1.21.1 in c:\\users\\сергей\\appdata\\local\\programs\\python\\python312\\lib\\site-packages (from requests>=2.26.0->mteb==1.6.35->byaldi) (2.2.2)\n",
      "Requirement already satisfied: certifi>=2017.4.17 in c:\\users\\сергей\\appdata\\local\\programs\\python\\python312\\lib\\site-packages (from requests>=2.26.0->mteb==1.6.35->byaldi) (2024.6.2)\n",
      "Requirement already satisfied: joblib>=1.2.0 in c:\\users\\сергей\\appdata\\local\\programs\\python\\python312\\lib\\site-packages (from scikit-learn>=1.0.2->mteb==1.6.35->byaldi) (1.4.2)\n",
      "Requirement already satisfied: threadpoolctl>=3.1.0 in c:\\users\\сергей\\appdata\\local\\programs\\python\\python312\\lib\\site-packages (from scikit-learn>=1.0.2->mteb==1.6.35->byaldi) (3.5.0)\n",
      "Requirement already satisfied: colorama in c:\\users\\сергей\\appdata\\local\\programs\\python\\python312\\lib\\site-packages (from tqdm->mteb==1.6.35->byaldi) (0.4.6)\n",
      "Requirement already satisfied: MarkupSafe>=2.0 in c:\\users\\сергей\\appdata\\local\\programs\\python\\python312\\lib\\site-packages (from jinja2->torch->byaldi) (2.1.5)\n",
      "Requirement already satisfied: attrs>=19.2.0 in c:\\users\\сергей\\appdata\\local\\programs\\python\\python312\\lib\\site-packages (from jsonlines->mteb==1.6.35->byaldi) (23.2.0)\n",
      "Requirement already satisfied: annotated-types>=0.6.0 in c:\\users\\сергей\\appdata\\local\\programs\\python\\python312\\lib\\site-packages (from pydantic->mteb==1.6.35->byaldi) (0.7.0)\n",
      "Requirement already satisfied: pydantic-core==2.27.1 in c:\\users\\сергей\\appdata\\local\\programs\\python\\python312\\lib\\site-packages (from pydantic->mteb==1.6.35->byaldi) (2.27.1)\n",
      "Requirement already satisfied: markdown-it-py>=2.2.0 in c:\\users\\сергей\\appdata\\local\\programs\\python\\python312\\lib\\site-packages (from rich->mteb==1.6.35->byaldi) (3.0.0)\n",
      "Requirement already satisfied: pygments<3.0.0,>=2.13.0 in c:\\users\\сергей\\appdata\\local\\programs\\python\\python312\\lib\\site-packages (from rich->mteb==1.6.35->byaldi) (2.18.0)\n",
      "Requirement already satisfied: aiohappyeyeballs>=2.3.0 in c:\\users\\сергей\\appdata\\local\\programs\\python\\python312\\lib\\site-packages (from aiohttp->datasets>=2.2.0->mteb==1.6.35->byaldi) (2.4.3)\n",
      "Requirement already satisfied: aiosignal>=1.1.2 in c:\\users\\сергей\\appdata\\local\\programs\\python\\python312\\lib\\site-packages (from aiohttp->datasets>=2.2.0->mteb==1.6.35->byaldi) (1.3.1)\n",
      "Requirement already satisfied: frozenlist>=1.1.1 in c:\\users\\сергей\\appdata\\local\\programs\\python\\python312\\lib\\site-packages (from aiohttp->datasets>=2.2.0->mteb==1.6.35->byaldi) (1.5.0)\n",
      "Requirement already satisfied: multidict<7.0,>=4.5 in c:\\users\\сергей\\appdata\\local\\programs\\python\\python312\\lib\\site-packages (from aiohttp->datasets>=2.2.0->mteb==1.6.35->byaldi) (6.1.0)\n",
      "Requirement already satisfied: propcache>=0.2.0 in c:\\users\\сергей\\appdata\\local\\programs\\python\\python312\\lib\\site-packages (from aiohttp->datasets>=2.2.0->mteb==1.6.35->byaldi) (0.2.0)\n",
      "Requirement already satisfied: yarl<2.0,>=1.17.0 in c:\\users\\сергей\\appdata\\local\\programs\\python\\python312\\lib\\site-packages (from aiohttp->datasets>=2.2.0->mteb==1.6.35->byaldi) (1.17.2)\n",
      "Requirement already satisfied: mdurl~=0.1 in c:\\users\\сергей\\appdata\\local\\programs\\python\\python312\\lib\\site-packages (from markdown-it-py>=2.2.0->rich->mteb==1.6.35->byaldi) (0.1.2)\n",
      "Requirement already satisfied: python-dateutil>=2.8.2 in c:\\users\\сергей\\appdata\\local\\programs\\python\\python312\\lib\\site-packages (from pandas->datasets>=2.2.0->mteb==1.6.35->byaldi) (2.9.0.post0)\n",
      "Requirement already satisfied: pytz>=2020.1 in c:\\users\\сергей\\appdata\\local\\programs\\python\\python312\\lib\\site-packages (from pandas->datasets>=2.2.0->mteb==1.6.35->byaldi) (2024.1)\n",
      "Requirement already satisfied: tzdata>=2022.7 in c:\\users\\сергей\\appdata\\local\\programs\\python\\python312\\lib\\site-packages (from pandas->datasets>=2.2.0->mteb==1.6.35->byaldi) (2024.1)\n",
      "Requirement already satisfied: six>=1.5 in c:\\users\\сергей\\appdata\\local\\programs\\python\\python312\\lib\\site-packages (from python-dateutil>=2.8.2->pandas->datasets>=2.2.0->mteb==1.6.35->byaldi) (1.16.0)\n",
      "Collecting poppler-utils\n",
      "  Downloading poppler_utils-0.1.0-py3-none-any.whl.metadata (883 bytes)\n",
      "Requirement already satisfied: Click>=7.0 in c:\\users\\сергей\\appdata\\local\\programs\\python\\python312\\lib\\site-packages (from poppler-utils) (8.1.7)\n",
      "Requirement already satisfied: colorama in c:\\users\\сергей\\appdata\\local\\programs\\python\\python312\\lib\\site-packages (from Click>=7.0->poppler-utils) (0.4.6)\n",
      "Downloading poppler_utils-0.1.0-py3-none-any.whl (9.2 kB)\n",
      "Installing collected packages: poppler-utils\n",
      "Successfully installed poppler-utils-0.1.0\n"
     ]
    },
    {
     "name": "stderr",
     "output_type": "stream",
     "text": [
      "  error: subprocess-exited-with-error\n",
      "  \n",
      "  python setup.py egg_info did not run successfully.\n",
      "  exit code: 1\n",
      "  \n",
      "  [22 lines of output]\n",
      "  fatal: not a git repository (or any of the parent directories): .git\n",
      "  C:\\Temp\\pip-install-5ntab2oj\\flash-attn_b7fd137a96814c60a714a71dbb79694e\\setup.py:99: UserWarning: flash_attn was requested, but nvcc was not found.  Are you sure your environment has nvcc available?  If you're installing within a container from https://hub.docker.com/r/pytorch/pytorch, only images whose names contain 'devel' will provide nvcc.\n",
      "    warnings.warn(\n",
      "  Traceback (most recent call last):\n",
      "    File \"<string>\", line 2, in <module>\n",
      "    File \"<pip-setuptools-caller>\", line 34, in <module>\n",
      "    File \"C:\\Temp\\pip-install-5ntab2oj\\flash-attn_b7fd137a96814c60a714a71dbb79694e\\setup.py\", line 183, in <module>\n",
      "      CUDAExtension(\n",
      "    File \"C:\\Users\\Сергей\\AppData\\Local\\Programs\\Python\\Python312\\Lib\\site-packages\\torch\\utils\\cpp_extension.py\", line 1078, in CUDAExtension\n",
      "      library_dirs += library_paths(cuda=True)\n",
      "                      ^^^^^^^^^^^^^^^^^^^^^^^^\n",
      "    File \"C:\\Users\\Сергей\\AppData\\Local\\Programs\\Python\\Python312\\Lib\\site-packages\\torch\\utils\\cpp_extension.py\", line 1216, in library_paths\n",
      "      paths.append(_join_cuda_home(lib_dir))\n",
      "                   ^^^^^^^^^^^^^^^^^^^^^^^^\n",
      "    File \"C:\\Users\\Сергей\\AppData\\Local\\Programs\\Python\\Python312\\Lib\\site-packages\\torch\\utils\\cpp_extension.py\", line 2416, in _join_cuda_home\n",
      "      raise OSError('CUDA_HOME environment variable is not set. '\n",
      "  OSError: CUDA_HOME environment variable is not set. Please set it to your CUDA install root.\n",
      "  \n",
      "  \n",
      "  torch.__version__  = 2.5.1+cpu\n",
      "  \n",
      "  \n",
      "  [end of output]\n",
      "  \n",
      "  note: This error originates from a subprocess, and is likely not a problem with pip.\n",
      "error: metadata-generation-failed\n",
      "\n",
      "Encountered error while generating package metadata.\n",
      "\n",
      "See above for output.\n",
      "\n",
      "note: This is an issue with the package mentioned above, not pip.\n",
      "hint: See above for details.\n"
     ]
    }
   ],
   "source": [
    "!pip install byaldi\n",
    "!pip install poppler-utils\n",
    "!pip install -q pdf2image flash-attn -q\n",
    "!pip install Spire.Doc -q"
   ]
  },
  {
   "cell_type": "markdown",
   "metadata": {},
   "source": [
    "Определим папку, где у нас лежат первоначальные данные `input_folder`, а так же папку, куда мы переведём файлы непосредственно для работы с RAG-системой `working_folder`."
   ]
  },
  {
   "cell_type": "code",
   "execution_count": 6,
   "metadata": {},
   "outputs": [],
   "source": [
    "from byaldi import RAGMultiModalModel\n",
    "import torch\n",
    "from pdf2image import convert_from_path\n",
    "import os\n",
    "import shutil\n",
    "from spire.doc import *\n",
    "from spire.doc.common import *\n",
    "\n",
    "\n",
    "device = torch.device('cuda') if torch.cuda.is_available() else torch.device('cpu')\n",
    "input_folder = '/kaggle/input/nornikel-2024/'\n",
    "working_folder = '/kaggle/working/nornikel-2024/'\n",
    "\n",
    "if not os.path.exists(working_folder):\n",
    "    os.makedirs(working_folder)"
   ]
  },
  {
   "cell_type": "code",
   "execution_count": 7,
   "metadata": {},
   "outputs": [],
   "source": [
    "def convert_doc_to_pdf(doc_path, pdf_path):\n",
    "    document = Document()\n",
    "    document.LoadFromFile(doc_path)\n",
    "    document.SaveToFile(pdf_path, FileFormat.PDF)\n",
    "    document.Close()"
   ]
  },
  {
   "cell_type": "code",
   "execution_count": 8,
   "metadata": {},
   "outputs": [
    {
     "ename": "FileNotFoundError",
     "evalue": "[WinError 3] Системе не удается найти указанный путь: '/kaggle/input/nornikel-2024/'",
     "output_type": "error",
     "traceback": [
      "\u001b[1;31m---------------------------------------------------------------------------\u001b[0m",
      "\u001b[1;31mFileNotFoundError\u001b[0m                         Traceback (most recent call last)",
      "Cell \u001b[1;32mIn[8], line 1\u001b[0m\n\u001b[1;32m----> 1\u001b[0m all_documents \u001b[38;5;241m=\u001b[39m \u001b[43mos\u001b[49m\u001b[38;5;241;43m.\u001b[39;49m\u001b[43mlistdir\u001b[49m\u001b[43m(\u001b[49m\u001b[43minput_folder\u001b[49m\u001b[43m)\u001b[49m\n\u001b[0;32m      3\u001b[0m \u001b[38;5;28;01mfor\u001b[39;00m file \u001b[38;5;129;01min\u001b[39;00m all_documents:\n\u001b[0;32m      4\u001b[0m     file_path \u001b[38;5;241m=\u001b[39m os\u001b[38;5;241m.\u001b[39mpath\u001b[38;5;241m.\u001b[39mjoin(input_folder, file)\n",
      "\u001b[1;31mFileNotFoundError\u001b[0m: [WinError 3] Системе не удается найти указанный путь: '/kaggle/input/nornikel-2024/'"
     ]
    }
   ],
   "source": [
    "all_documents = os.listdir(input_folder)\n",
    "\n",
    "for file in all_documents:\n",
    "    file_path = os.path.join(input_folder, file)\n",
    "    if file_path.endswith('.docx') or file_path.endswith('.doc'):\n",
    "        file_path = convert_doc_to_pdf(file_path, working_folder + file[:-4] + 'pdf')\n",
    "        print(f\"Копирован и переведён в формат .pdf файл: {file[:-4] + 'pdf'}\")\n",
    "    else:\n",
    "        shutil.copy(file_path, working_folder)\n",
    "        print(f\"Копирован файл: {file}\")"
   ]
  },
  {
   "cell_type": "markdown",
   "metadata": {},
   "source": [
    "Определим метод RAGMultiModalModel из библиотеки byaldi, который отвечает за создание мультимодальной RAG-системы с помощью модели ColPali."
   ]
  },
  {
   "cell_type": "code",
   "execution_count": null,
   "metadata": {},
   "outputs": [],
   "source": [
    "RAG = RAGMultiModalModel.from_pretrained(\"vidore/colpali-v1.2\", device=device)"
   ]
  },
  {
   "cell_type": "markdown",
   "metadata": {},
   "source": [
    "Создадим нашу векторную базу из всех документов, которые у нас есть."
   ]
  },
  {
   "cell_type": "code",
   "execution_count": null,
   "metadata": {},
   "outputs": [],
   "source": [
    "RAG.index(\n",
    "    input_path=working_folder,\n",
    "    index_name='nornikel_index',\n",
    "    store_collection_with_index=False,\n",
    "    overwrite=True\n",
    ")"
   ]
  },
  {
   "cell_type": "markdown",
   "metadata": {},
   "source": [
    "Сформируем текстовый запрос, чтобы убедиться, что модель работает. Определим k страниц, где есть релевантная информация."
   ]
  },
  {
   "cell_type": "code",
   "execution_count": null,
   "metadata": {},
   "outputs": [],
   "source": [
    "text_query = \"Расскажи про рынок блирриантов\"\n",
    "results = RAG.search(text_query, k=5)"
   ]
  },
  {
   "cell_type": "code",
   "execution_count": null,
   "metadata": {},
   "outputs": [],
   "source": [
    "for result in results:\n",
    "    doc_id = result['doc_id']\n",
    "    page_num = result['page_num']\n",
    "    score = result['score']\n",
    "\n",
    "    print(f\"Документ ID: {doc_id}, Страница: {page_num}, Релевантность: {score}\")"
   ]
  },
  {
   "cell_type": "markdown",
   "metadata": {},
   "source": [
    "Сохраним нашу векторную базу для дальнейшей эксплуатации."
   ]
  },
  {
   "cell_type": "code",
   "execution_count": null,
   "metadata": {},
   "outputs": [],
   "source": [
    "from zipfile import ZipFile\n",
    "\n",
    "byaldi_folder = '/kaggle/working/.byaldi'\n",
    "archive_name = '/kaggle/working/byaldi.zip'\n",
    "\n",
    "if os.path.exists(byaldi_folder):\n",
    "    shutil.make_archive(archive_name.replace('.zip', ''), 'zip', byaldi_folder)\n",
    "    print(f\"Архив создан: {archive_name}\")\n",
    "else:\n",
    "    print(f\"Папка {byaldi_folder} не найдена.\")\n"
   ]
  }
 ],
 "metadata": {
  "kaggle": {
   "accelerator": "nvidiaTeslaT4",
   "dataSources": [
    {
     "datasetId": 6245083,
     "sourceId": 10120929,
     "sourceType": "datasetVersion"
    }
   ],
   "dockerImageVersionId": 30805,
   "isGpuEnabled": true,
   "isInternetEnabled": true,
   "language": "python",
   "sourceType": "notebook"
  },
  "kernelspec": {
   "display_name": "Python 3 (ipykernel)",
   "language": "python",
   "name": "python3"
  },
  "language_info": {
   "codemirror_mode": {
    "name": "ipython",
    "version": 3
   },
   "file_extension": ".py",
   "mimetype": "text/x-python",
   "name": "python",
   "nbconvert_exporter": "python",
   "pygments_lexer": "ipython3",
   "version": "3.12.4"
  }
 },
 "nbformat": 4,
 "nbformat_minor": 4
}
